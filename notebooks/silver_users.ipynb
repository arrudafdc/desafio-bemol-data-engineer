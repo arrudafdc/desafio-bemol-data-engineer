{
 "cells": [
  {
   "cell_type": "markdown",
   "id": "2a073231",
   "metadata": {},
   "source": [
    "### Setup e Variáveis"
   ]
  },
  {
   "cell_type": "code",
   "execution_count": 1,
   "id": "a2136692",
   "metadata": {},
   "outputs": [],
   "source": [
    "from core.bemol_validator import BemolValidator\n",
    "from core.bemol_lakehouse import BemolLakeHouse\n",
    "from core.bemol_controller import BemolController\n",
    "from core.bemol_logger import BemolLogger\n",
    "from pyspark.sql import SparkSession\n",
    "from pyspark.sql.functions import col, concat_ws"
   ]
  },
  {
   "cell_type": "code",
   "execution_count": null,
   "id": "d674ce30",
   "metadata": {},
   "outputs": [],
   "source": [
    "# Instanciando classe de logger\n",
    "logger = BemolLogger(\"silver_users\")\n",
    "\n",
    "# Configurando Spark com Delta Lake\n",
    "spark = (\n",
    "  SparkSession.builder\n",
    "  .appName(\"TransformacaoSilverUsuarios\")\n",
    "  .config(\"spark.jars.packages\", \"io.delta:delta-core_2.12:2.4.0\")\n",
    "  .config(\"spark.sql.extensions\", \"io.delta.sql.DeltaSparkSessionExtension\")\n",
    "  .config(\"spark.sql.catalog.spark_catalog\", \"org.apache.spark.sql.delta.catalog.DeltaCatalog\")\n",
    "  .getOrCreate()\n",
    ")\n",
    "\n",
    "# Intanciando classe de leitura/escrita de dados\n",
    "lakehouse = BemolLakeHouse(spark, logger)"
   ]
  },
  {
   "cell_type": "code",
   "execution_count": 3,
   "id": "544014bb",
   "metadata": {},
   "outputs": [],
   "source": [
    "# Definindo paths de origem e destino\n",
    "origin_path = \"../data/bronze/users/\"\n",
    "destination_path = \"../data/silver/users/\"\n",
    "\n",
    "# Path para salvar os dados de monitoramento\n",
    "destination_path_monitor = \"../data/monitoring/\""
   ]
  },
  {
   "cell_type": "markdown",
   "id": "16b0ea55",
   "metadata": {},
   "source": [
    "### Leitura"
   ]
  },
  {
   "cell_type": "code",
   "execution_count": 4,
   "id": "38ffe8fd",
   "metadata": {},
   "outputs": [
    {
     "name": "stderr",
     "output_type": "stream",
     "text": [
      "2025-10-16 20:35:54,544 - INFO - Iniciando operação: read_bronze\n",
      "2025-10-16 20:35:54,549 - INFO - Lendo dados da camada Bronze: ../data/bronze/users/\n",
      "25/10/16 20:36:03 WARN package: Truncated the string representation of a plan since it was too large. This behavior can be adjusted by setting 'spark.sql.debug.maxToStringFields'.\n",
      "2025-10-16 20:36:10,321 - INFO - Dados lidos com sucesso da camada Bronze: 10 linhas, 13 colunas.\n",
      "2025-10-16 20:36:10,328 - INFO - Operação read_bronze finalizada em 15.78 segundos.\n"
     ]
    }
   ],
   "source": [
    "# Lendo dados da camada bronze usando a classe BemolLakeHouse\n",
    "df_users = lakehouse.read_bronze(origin_path)"
   ]
  },
  {
   "cell_type": "markdown",
   "id": "1346d3a8",
   "metadata": {},
   "source": [
    "### Tranformações"
   ]
  },
  {
   "cell_type": "code",
   "execution_count": 12,
   "id": "3c154429",
   "metadata": {},
   "outputs": [],
   "source": [
    "# Remove duplicatas\n",
    "df_users = df_users.dropDuplicates([\"id\"])\n",
    "\n",
    "# Adiciona a coluna full_name\n",
    "df_users_silver = df_users.withColumn(\"full_name\", concat_ws(\" \", col(\"first_name\"), col(\"last_name\")))\n",
    "\n",
    "# Remove colunas indesejadas\n",
    "df_users_silver = df_users_silver.select(\"id\", \"username\", \"full_name\", \"email\", \"phone\", \"city\")\n",
    "\n",
    "# Valida a coluna de e-mail com a classe BemolValidator\n",
    "df_users_silver = BemolValidator.validate_email(df_users_silver, \"email\")"
   ]
  },
  {
   "cell_type": "markdown",
   "id": "bb284f50",
   "metadata": {},
   "source": [
    "### Escrita"
   ]
  },
  {
   "cell_type": "code",
   "execution_count": 13,
   "id": "603eb563",
   "metadata": {},
   "outputs": [],
   "source": [
    "# Adiciona coluna de timestamp de ingestão\n",
    "df_users_silver = BemolController.control_field(df_users_silver, layer=\"silver\")"
   ]
  },
  {
   "cell_type": "code",
   "execution_count": 14,
   "id": "d57e3d94",
   "metadata": {},
   "outputs": [
    {
     "name": "stdout",
     "output_type": "stream",
     "text": [
      "+---+---------+--------------+------------------+--------------+-----------+--------------+--------------------------+\n",
      "|id |username |full_name     |email             |phone         |city       |is_valid_email|insertion_silver          |\n",
      "+---+---------+--------------+------------------+--------------+-----------+--------------+--------------------------+\n",
      "|1  |johnd    |john doe      |john@gmail.com    |1-570-236-7033|kilcoole   |true          |2025-10-16 21:10:07.129131|\n",
      "|2  |mor_2314 |david morrison|morrison@gmail.com|1-570-236-7033|kilcoole   |true          |2025-10-16 21:10:07.129131|\n",
      "|3  |kevinryan|kevin ryan    |kevin@gmail.com   |1-567-094-1345|Cullman    |true          |2025-10-16 21:10:07.129131|\n",
      "|4  |donero   |don romer     |don@gmail.com     |1-765-789-6734|San Antonio|true          |2025-10-16 21:10:07.129131|\n",
      "|5  |derek    |derek powell  |derek@gmail.com   |1-956-001-1945|san Antonio|true          |2025-10-16 21:10:07.129131|\n",
      "+---+---------+--------------+------------------+--------------+-----------+--------------+--------------------------+\n",
      "only showing top 5 rows\n",
      "\n"
     ]
    }
   ],
   "source": [
    "df_users_silver.show(5, truncate=False)"
   ]
  },
  {
   "cell_type": "code",
   "execution_count": 15,
   "id": "3ba047c4",
   "metadata": {},
   "outputs": [
    {
     "name": "stderr",
     "output_type": "stream",
     "text": [
      "2025-10-16 21:10:31,782 - INFO - Iniciando operação: write_silver\n",
      "2025-10-16 21:10:31,790 - INFO - Escrevendo dados na camada silver em ../data/silver/users/\n",
      "2025-10-16 21:10:36,883 - INFO - Dados escritos com sucesso na camada silver.\n",
      "2025-10-16 21:10:37,267 - INFO - Métricas silver_users: 10 linhas, 8 colunas.\n",
      "2025-10-16 21:10:37,268 - INFO - Operação write_silver finalizada em 5.49 segundos.\n"
     ]
    }
   ],
   "source": [
    "# Escreve os dados na camada silver no formato Delta Lake e no modo overwrite como padrão\n",
    "lakehouse.write_silver(df_users_silver, destination_path, table_name=\"silver_users\")"
   ]
  },
  {
   "cell_type": "code",
   "execution_count": 16,
   "id": "208bd161",
   "metadata": {},
   "outputs": [
    {
     "name": "stderr",
     "output_type": "stream",
     "text": [
      "2025-10-16 21:10:58,603 - INFO - Métricas exportadas com sucesso para ../data/monitoring/\n"
     ]
    },
    {
     "data": {
      "text/plain": [
       "DataFrame[table_name: string, row_count: bigint, col_count: bigint, timestamp: string]"
      ]
     },
     "execution_count": 16,
     "metadata": {},
     "output_type": "execute_result"
    }
   ],
   "source": [
    "# Escreve os dados de monitoramento no formato Delta Lake e no modo overwrite como padrão\n",
    "lakehouse.monitor.export_delta(spark, destination_path_monitor)"
   ]
  },
  {
   "cell_type": "code",
   "execution_count": 17,
   "id": "df2b6b00",
   "metadata": {},
   "outputs": [
    {
     "name": "stdout",
     "output_type": "stream",
     "text": [
      "+---------------+---------+---------+-------------------+\n",
      "|table_name     |row_count|col_count|timestamp          |\n",
      "+---------------+---------+---------+-------------------+\n",
      "|bronze_products|20       |9        |2025-10-16 20:27:04|\n",
      "|bronze_carts   |14       |6        |2025-10-16 20:27:10|\n",
      "|silver_users   |10       |8        |2025-10-16 21:10:37|\n",
      "|bronze_users   |10       |13       |2025-10-16 19:46:39|\n",
      "+---------------+---------+---------+-------------------+\n",
      "\n"
     ]
    }
   ],
   "source": [
    "df_monitor = spark.read.format(\"delta\").load(destination_path_monitor)\n",
    "df_monitor.show(5, truncate=False)"
   ]
  }
 ],
 "metadata": {
  "kernelspec": {
   "display_name": ".venv",
   "language": "python",
   "name": "python3"
  },
  "language_info": {
   "codemirror_mode": {
    "name": "ipython",
    "version": 3
   },
   "file_extension": ".py",
   "mimetype": "text/x-python",
   "name": "python",
   "nbconvert_exporter": "python",
   "pygments_lexer": "ipython3",
   "version": "3.12.5"
  }
 },
 "nbformat": 4,
 "nbformat_minor": 5
}
