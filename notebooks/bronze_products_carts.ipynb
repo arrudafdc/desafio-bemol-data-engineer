{
 "cells": [
  {
   "cell_type": "markdown",
   "id": "c7387cd6",
   "metadata": {},
   "source": [
    "### Setup e Variáveis"
   ]
  },
  {
   "cell_type": "code",
   "execution_count": 1,
   "id": "fe89152c",
   "metadata": {},
   "outputs": [],
   "source": [
    "from core.bemol_lakehouse import BemolLakeHouse\n",
    "from core.bemol_controller import BemolController\n",
    "from core.bemol_landing_reader import BemolLandingReader\n",
    "from core.bemol_logger import BemolLogger\n",
    "from pyspark.sql import SparkSession\n",
    "from pyspark.sql.functions import explode, col"
   ]
  },
  {
   "cell_type": "code",
   "execution_count": null,
   "id": "459f7f14",
   "metadata": {},
   "outputs": [],
   "source": [
    "# Instanciando classe de logger\n",
    "logger = BemolLogger(\"bronze_products_carts\")\n",
    "\n",
    "# Configurando Spark com Delta Lake\n",
    "spark = (\n",
    "  SparkSession.builder\n",
    "  .appName(\"IngestaoBronzeProdutos\")\n",
    "  .config(\"spark.jars.packages\", \"io.delta:delta-core_2.12:2.4.0\")\n",
    "  .config(\"spark.sql.extensions\", \"io.delta.sql.DeltaSparkSessionExtension\")\n",
    "  .config(\"spark.sql.catalog.spark_catalog\", \"org.apache.spark.sql.delta.catalog.DeltaCatalog\")\n",
    "  .getOrCreate()\n",
    ")\n",
    "\n",
    "# Intanciando classe de leitura/escrita de dados\n",
    "lakehouse = BemolLakeHouse(spark, logger)\n",
    "\n",
    "# Intanciando classe de leitura da camada landing\n",
    "landing = BemolLandingReader(logger)"
   ]
  },
  {
   "cell_type": "code",
   "execution_count": 3,
   "id": "d33ad521",
   "metadata": {},
   "outputs": [],
   "source": [
    "# Definindo URL's da API e destinos dos dados\n",
    "url_products = \"https://fakestoreapi.com/products\"\n",
    "url_carts = \"https://fakestoreapi.com/carts\"\n",
    "destination_path_products = \"../data/bronze/products\"\n",
    "destination_path_carts = \"../data/bronze/carts\"\n",
    "\n",
    "# Path para salvar os dados de monitoramento\n",
    "destination_path_monitor = \"../data/monitoring/\""
   ]
  },
  {
   "cell_type": "markdown",
   "id": "8b46f1b1",
   "metadata": {},
   "source": [
    "### Leitura"
   ]
  },
  {
   "cell_type": "code",
   "execution_count": 4,
   "id": "8865e896",
   "metadata": {},
   "outputs": [
    {
     "name": "stderr",
     "output_type": "stream",
     "text": [
      "2025-10-16 19:54:27,890 - INFO - Iniciando operação: read_api\n",
      "2025-10-16 19:54:27,912 - INFO - Lendo dados da API: https://fakestoreapi.com/carts\n",
      "2025-10-16 19:54:37,403 - INFO - Dados lidos com sucesso da API: 7 linhas, 5 colunas.\n",
      "2025-10-16 19:54:37,913 - INFO - Operação read_api finalizada em 10.02 segundos.\n",
      "2025-10-16 19:54:37,940 - INFO - Iniciando operação: read_api\n",
      "2025-10-16 19:54:37,944 - INFO - Lendo dados da API: https://fakestoreapi.com/products\n",
      "2025-10-16 19:54:39,308 - INFO - Dados lidos com sucesso da API: 20 linhas, 7 colunas.\n",
      "2025-10-16 19:54:39,309 - INFO - Operação read_api finalizada em 1.37 segundos.\n"
     ]
    }
   ],
   "source": [
    "# Lendo dados da API e criando DataFrame\n",
    "df_carts = landing.read_api(spark, url_carts)\n",
    "df_products = landing.read_api(spark, url_products)"
   ]
  },
  {
   "cell_type": "code",
   "execution_count": 6,
   "id": "23eeb7fb",
   "metadata": {},
   "outputs": [
    {
     "name": "stdout",
     "output_type": "stream",
     "text": [
      "+--------------+--------------------------------------------------------------------------------------------------------------------------------------------------------------------------------------------------------------------------------------------------------------------------------------------------------------------------------------------------+---+------------------------------------------------------------------------+------+----------+---------------------------------------------------------------------------+\n",
      "|category      |description                                                                                                                                                                                                                                                                                                                                       |id |image                                                                   |price |rating    |title                                                                      |\n",
      "+--------------+--------------------------------------------------------------------------------------------------------------------------------------------------------------------------------------------------------------------------------------------------------------------------------------------------------------------------------------------------+---+------------------------------------------------------------------------+------+----------+---------------------------------------------------------------------------+\n",
      "|men's clothing|Your perfect pack for everyday use and walks in the forest. Stash your laptop (up to 15 inches) in the padded sleeve, your everyday                                                                                                                                                                                                               |1  |https://fakestoreapi.com/img/81fPKd-2AYL._AC_SL1500_t.png               |109.95|{120, 3.9}|Fjallraven - Foldsack No. 1 Backpack, Fits 15 Laptops                      |\n",
      "|men's clothing|Slim-fitting style, contrast raglan long sleeve, three-button henley placket, light weight & soft fabric for breathable and comfortable wearing. And Solid stitched shirts with round neck made for durability and a great fit for casual fashion wear and diehard baseball fans. The Henley style round neckline includes a three-button placket.|2  |https://fakestoreapi.com/img/71-3HjGNDUL._AC_SY879._SX._UX._SY._UY_t.png|22.3  |{259, 4.1}|Mens Casual Premium Slim Fit T-Shirts                                      |\n",
      "|men's clothing|great outerwear jackets for Spring/Autumn/Winter, suitable for many occasions, such as working, hiking, camping, mountain/rock climbing, cycling, traveling or other outdoors. Good gift choice for you or your family member. A warm hearted love to Father, husband or son in this thanksgiving or Christmas Day.                               |3  |https://fakestoreapi.com/img/71li-ujtlUL._AC_UX679_t.png                |55.99 |{500, 4.7}|Mens Cotton Jacket                                                         |\n",
      "|men's clothing|The color could be slightly different between on the screen and in practice. / Please note that body builds vary by person, therefore, detailed size information should be reviewed below on the product description.                                                                                                                             |4  |https://fakestoreapi.com/img/71YXzeOuslL._AC_UY879_t.png                |15.99 |{430, 2.1}|Mens Casual Slim Fit                                                       |\n",
      "|jewelery      |From our Legends Collection, the Naga was inspired by the mythical water dragon that protects the ocean's pearl. Wear facing inward to be bestowed with love and abundance, or outward for protection.                                                                                                                                            |5  |https://fakestoreapi.com/img/71pWzhdJNwL._AC_UL640_QL65_ML3_t.png       |695.0 |{400, 4.6}|John Hardy Women's Legends Naga Gold & Silver Dragon Station Chain Bracelet|\n",
      "+--------------+--------------------------------------------------------------------------------------------------------------------------------------------------------------------------------------------------------------------------------------------------------------------------------------------------------------------------------------------------+---+------------------------------------------------------------------------+------+----------+---------------------------------------------------------------------------+\n",
      "only showing top 5 rows\n",
      "\n"
     ]
    }
   ],
   "source": [
    "df_products.show(5, truncate=False)"
   ]
  },
  {
   "cell_type": "code",
   "execution_count": 5,
   "id": "c7b3a082",
   "metadata": {},
   "outputs": [
    {
     "name": "stdout",
     "output_type": "stream",
     "text": [
      "+---+------------------------+---+-------------------------+------+\n",
      "|__v|date                    |id |products                 |userId|\n",
      "+---+------------------------+---+-------------------------+------+\n",
      "|0  |2020-03-02T00:00:00.000Z|1  |[{1, 4}, {2, 1}, {3, 6}] |1     |\n",
      "|0  |2020-01-02T00:00:00.000Z|2  |[{2, 4}, {1, 10}, {5, 2}]|1     |\n",
      "|0  |2020-03-01T00:00:00.000Z|3  |[{1, 2}, {9, 1}]         |2     |\n",
      "|0  |2020-01-01T00:00:00.000Z|4  |[{1, 4}]                 |3     |\n",
      "|0  |2020-03-01T00:00:00.000Z|5  |[{7, 1}, {8, 1}]         |3     |\n",
      "+---+------------------------+---+-------------------------+------+\n",
      "only showing top 5 rows\n",
      "\n"
     ]
    }
   ],
   "source": [
    "df_carts.show(5, truncate=False)"
   ]
  },
  {
   "cell_type": "markdown",
   "id": "d3d938fc",
   "metadata": {},
   "source": [
    "### Transformações Produto"
   ]
  },
  {
   "cell_type": "code",
   "execution_count": 9,
   "id": "1123a348",
   "metadata": {},
   "outputs": [],
   "source": [
    "# Remove registros com valores nulos em colunas críticas\n",
    "df_products_bronze = df_products.dropna(subset=[\"id\"])\n",
    "\n",
    "# Renomeia coluna pora manter evitar ambiguidade\n",
    "df_products_bronze = df_products_bronze.withColumnRenamed(\"title\", \"product_title\")\n",
    "\n",
    "# Extrai campos aninhados\n",
    "df_products_bronze = (\n",
    "  df_products_bronze\n",
    "  .withColumn(\"rating_count\", col(\"rating.count\"))\n",
    "  .withColumn(\"rating\", col(\"rating.rate\"))\n",
    "  )"
   ]
  },
  {
   "cell_type": "code",
   "execution_count": 8,
   "id": "87fa757d",
   "metadata": {},
   "outputs": [
    {
     "name": "stdout",
     "output_type": "stream",
     "text": [
      "+----------------+----------------------------------------------------------------------------------------------------------------------------------------------------------------------------------------------------------------------------------------------------------------------------------------------------------------------------------------------------------------------------------------------------------------------------------------------------------------------------------------------------------------------------------------------------------------------------------------------------------------------------------------------------------------------------------------------------------------------------------------------------------------------------------------------------+---+------------------------------------------------------------------------+------+------+-------------------------------------------------------------------------------------------------+------------+\n",
      "|category        |description                                                                                                                                                                                                                                                                                                                                                                                                                                                                                                                                                                                                                                                                                                                                                                                         |id |image                                                                   |price |rating|product_title                                                                                    |rating_count|\n",
      "+----------------+----------------------------------------------------------------------------------------------------------------------------------------------------------------------------------------------------------------------------------------------------------------------------------------------------------------------------------------------------------------------------------------------------------------------------------------------------------------------------------------------------------------------------------------------------------------------------------------------------------------------------------------------------------------------------------------------------------------------------------------------------------------------------------------------------+---+------------------------------------------------------------------------+------+------+-------------------------------------------------------------------------------------------------+------------+\n",
      "|men's clothing  |Your perfect pack for everyday use and walks in the forest. Stash your laptop (up to 15 inches) in the padded sleeve, your everyday                                                                                                                                                                                                                                                                                                                                                                                                                                                                                                                                                                                                                                                                 |1  |https://fakestoreapi.com/img/81fPKd-2AYL._AC_SL1500_t.png               |109.95|3.9   |Fjallraven - Foldsack No. 1 Backpack, Fits 15 Laptops                                            |120         |\n",
      "|men's clothing  |Slim-fitting style, contrast raglan long sleeve, three-button henley placket, light weight & soft fabric for breathable and comfortable wearing. And Solid stitched shirts with round neck made for durability and a great fit for casual fashion wear and diehard baseball fans. The Henley style round neckline includes a three-button placket.                                                                                                                                                                                                                                                                                                                                                                                                                                                  |2  |https://fakestoreapi.com/img/71-3HjGNDUL._AC_SY879._SX._UX._SY._UY_t.png|22.3  |4.1   |Mens Casual Premium Slim Fit T-Shirts                                                            |259         |\n",
      "|men's clothing  |great outerwear jackets for Spring/Autumn/Winter, suitable for many occasions, such as working, hiking, camping, mountain/rock climbing, cycling, traveling or other outdoors. Good gift choice for you or your family member. A warm hearted love to Father, husband or son in this thanksgiving or Christmas Day.                                                                                                                                                                                                                                                                                                                                                                                                                                                                                 |3  |https://fakestoreapi.com/img/71li-ujtlUL._AC_UX679_t.png                |55.99 |4.7   |Mens Cotton Jacket                                                                               |500         |\n",
      "|men's clothing  |The color could be slightly different between on the screen and in practice. / Please note that body builds vary by person, therefore, detailed size information should be reviewed below on the product description.                                                                                                                                                                                                                                                                                                                                                                                                                                                                                                                                                                               |4  |https://fakestoreapi.com/img/71YXzeOuslL._AC_UY879_t.png                |15.99 |2.1   |Mens Casual Slim Fit                                                                             |430         |\n",
      "|jewelery        |From our Legends Collection, the Naga was inspired by the mythical water dragon that protects the ocean's pearl. Wear facing inward to be bestowed with love and abundance, or outward for protection.                                                                                                                                                                                                                                                                                                                                                                                                                                                                                                                                                                                              |5  |https://fakestoreapi.com/img/71pWzhdJNwL._AC_UL640_QL65_ML3_t.png       |695.0 |4.6   |John Hardy Women's Legends Naga Gold & Silver Dragon Station Chain Bracelet                      |400         |\n",
      "|jewelery        |Satisfaction Guaranteed. Return or exchange any order within 30 days.Designed and sold by Hafeez Center in the United States. Satisfaction Guaranteed. Return or exchange any order within 30 days.                                                                                                                                                                                                                                                                                                                                                                                                                                                                                                                                                                                                 |6  |https://fakestoreapi.com/img/61sbMiUnoGL._AC_UL640_QL65_ML3_t.png       |168.0 |3.9   |Solid Gold Petite Micropave                                                                      |70          |\n",
      "|jewelery        |Classic Created Wedding Engagement Solitaire Diamond Promise Ring for Her. Gifts to spoil your love more for Engagement, Wedding, Anniversary, Valentine's Day...                                                                                                                                                                                                                                                                                                                                                                                                                                                                                                                                                                                                                                   |7  |https://fakestoreapi.com/img/71YAIFU48IL._AC_UL640_QL65_ML3_t.png       |9.99  |3.0   |White Gold Plated Princess                                                                       |400         |\n",
      "|jewelery        |Rose Gold Plated Double Flared Tunnel Plug Earrings. Made of 316L Stainless Steel                                                                                                                                                                                                                                                                                                                                                                                                                                                                                                                                                                                                                                                                                                                   |8  |https://fakestoreapi.com/img/51UDEzMJVpL._AC_UL640_QL65_ML3_t.png       |10.99 |1.9   |Pierced Owl Rose Gold Plated Stainless Steel Double                                              |100         |\n",
      "|electronics     |USB 3.0 and USB 2.0 Compatibility Fast data transfers Improve PC Performance High Capacity; Compatibility Formatted NTFS for Windows 10, Windows 8.1, Windows 7; Reformatting may be required for other operating systems; Compatibility may vary depending on user’s hardware configuration and operating system                                                                                                                                                                                                                                                                                                                                                                                                                                                                                   |9  |https://fakestoreapi.com/img/61IBBVJvSDL._AC_SY879_t.png                |64.0  |3.3   |WD 2TB Elements Portable External Hard Drive - USB 3.0                                           |203         |\n",
      "|electronics     |Easy upgrade for faster boot up, shutdown, application load and response (As compared to 5400 RPM SATA 2.5” hard drive; Based on published specifications and internal benchmarking tests using PCMark vantage scores) Boosts burst write performance, making it ideal for typical PC workloads The perfect balance of performance and reliability Read/write speeds of up to 535MB/s/450MB/s (Based on internal testing; Performance may vary depending upon drive capacity, host device, OS and application.)                                                                                                                                                                                                                                                                                     |10 |https://fakestoreapi.com/img/61U7T1koQqL._AC_SX679_t.png                |109.0 |2.9   |SanDisk SSD PLUS 1TB Internal SSD - SATA III 6 Gb/s                                              |470         |\n",
      "|electronics     |3D NAND flash are applied to deliver high transfer speeds Remarkable transfer speeds that enable faster bootup and improved overall system performance. The advanced SLC Cache Technology allows performance boost and longer lifespan 7mm slim design suitable for Ultrabooks and Ultra-slim notebooks. Supports TRIM command, Garbage Collection technology, RAID, and ECC (Error Checking & Correction) to provide the optimized performance and enhanced reliability.                                                                                                                                                                                                                                                                                                                           |11 |https://fakestoreapi.com/img/71kWymZ+c+L._AC_SX679_t.png                |109.0 |4.8   |Silicon Power 256GB SSD 3D NAND A55 SLC Cache Performance Boost SATA III 2.5                     |319         |\n",
      "|electronics     |Expand your PS4 gaming experience, Play anywhere Fast and easy, setup Sleek design with high capacity, 3-year manufacturer's limited warranty                                                                                                                                                                                                                                                                                                                                                                                                                                                                                                                                                                                                                                                       |12 |https://fakestoreapi.com/img/61mtL65D4cL._AC_SX679_t.png                |114.0 |4.8   |WD 4TB Gaming Drive Works with Playstation 4 Portable External Hard Drive                        |400         |\n",
      "|electronics     |21. 5 inches Full HD (1920 x 1080) widescreen IPS display And Radeon free Sync technology. No compatibility for VESA Mount Refresh Rate: 75Hz - Using HDMI port Zero-frame design | ultra-thin | 4ms response time | IPS panel Aspect ratio - 16: 9. Color Supported - 16. 7 million colors. Brightness - 250 nit Tilt angle -5 degree to 15 degree. Horizontal viewing angle-178 degree. Vertical viewing angle-178 degree 75 hertz                                                                                                                                                                                                                                                                                                                                                                |13 |https://fakestoreapi.com/img/81QpkIctqPL._AC_SX679_t.png                |599.0 |2.9   |Acer SB220Q bi 21.5 inches Full HD (1920 x 1080) IPS Ultra-Thin                                  |250         |\n",
      "|electronics     |49 INCH SUPER ULTRAWIDE 32:9 CURVED GAMING MONITOR with dual 27 inch screen side by side QUANTUM DOT (QLED) TECHNOLOGY, HDR support and factory calibration provides stunningly realistic and accurate color and contrast 144HZ HIGH REFRESH RATE and 1ms ultra fast response time work to eliminate motion blur, ghosting, and reduce input lag                                                                                                                                                                                                                                                                                                                                                                                                                                                    |14 |https://fakestoreapi.com/img/81Zt42ioCgL._AC_SX679_t.png                |999.99|2.2   |Samsung 49-Inch CHG90 144Hz Curved Gaming Monitor (LC49HG90DMNXZA) – Super Ultrawide Screen QLED |140         |\n",
      "|women's clothing|Note:The Jackets is US standard size, Please choose size as your usual wear Material: 100% Polyester; Detachable Liner Fabric: Warm Fleece. Detachable Functional Liner: Skin Friendly, Lightweigt and Warm.Stand Collar Liner jacket, keep you warm in cold weather. Zippered Pockets: 2 Zippered Hand Pockets, 2 Zippered Pockets on Chest (enough to keep cards or keys)and 1 Hidden Pocket Inside.Zippered Hand Pockets and Hidden Pocket keep your things secure. Humanized Design: Adjustable and Detachable Hood and Adjustable cuff to prevent the wind and water,for a comfortable fit. 3 in 1 Detachable Design provide more convenience, you can separate the coat and inner as needed, or wear it together. It is suitable for different season and help you adapt to different climates|15 |https://fakestoreapi.com/img/51Y5NI-I5jL._AC_UX679_t.png                |56.99 |2.6   |BIYLACLESEN Women's 3-in-1 Snowboard Jacket Winter Coats                                         |235         |\n",
      "|women's clothing|100% POLYURETHANE(shell) 100% POLYESTER(lining) 75% POLYESTER 25% COTTON (SWEATER), Faux leather material for style and comfort / 2 pockets of front, 2-For-One Hooded denim style faux leather jacket, Button detail on waist / Detail stitching at sides, HAND WASH ONLY / DO NOT BLEACH / LINE DRY / DO NOT IRON                                                                                                                                                                                                                                                                                                                                                                                                                                                                                 |16 |https://fakestoreapi.com/img/81XH0e8fefL._AC_UY879_t.png                |29.95 |2.9   |Lock and Love Women's Removable Hooded Faux Leather Moto Biker Jacket                            |340         |\n",
      "|women's clothing|Lightweight perfet for trip or casual wear---Long sleeve with hooded, adjustable drawstring waist design. Button and zipper front closure raincoat, fully stripes Lined and The Raincoat has 2 side pockets are a good size to hold all kinds of things, it covers the hips, and the hood is generous but doesn't overdo it.Attached Cotton Lined Hood with Adjustable Drawstrings give it a real styled look.                                                                                                                                                                                                                                                                                                                                                                                      |17 |https://fakestoreapi.com/img/71HblAHs5xL._AC_UY879_-2t.png              |39.99 |3.8   |Rain Jacket Women Windbreaker Striped Climbing Raincoats                                         |679         |\n",
      "|women's clothing|95% RAYON 5% SPANDEX, Made in USA or Imported, Do Not Bleach, Lightweight fabric with great stretch for comfort, Ribbed on sleeves and neckline / Double stitching on bottom hem                                                                                                                                                                                                                                                                                                                                                                                                                                                                                                                                                                                                                    |18 |https://fakestoreapi.com/img/71z3kpMAYsL._AC_UY879_t.png                |9.85  |4.7   |MBJ Women's Solid Short Sleeve Boat Neck V                                                       |130         |\n",
      "|women's clothing|100% Polyester, Machine wash, 100% cationic polyester interlock, Machine Wash & Pre Shrunk for a Great Fit, Lightweight, roomy and highly breathable with moisture wicking fabric which helps to keep moisture away, Soft Lightweight Fabric with comfortable V-neck collar and a slimmer fit, delivers a sleek, more feminine silhouette and Added Comfort                                                                                                                                                                                                                                                                                                                                                                                                                                         |19 |https://fakestoreapi.com/img/51eg55uWmdL._AC_UX679_t.png                |7.95  |4.5   |Opna Women's Short Sleeve Moisture                                                               |146         |\n",
      "|women's clothing|95%Cotton,5%Spandex, Features: Casual, Short Sleeve, Letter Print,V-Neck,Fashion Tees, The fabric is soft and has some stretch., Occasion: Casual/Office/Beach/School/Home/Street. Season: Spring,Summer,Autumn,Winter.                                                                                                                                                                                                                                                                                                                                                                                                                                                                                                                                                                             |20 |https://fakestoreapi.com/img/61pHAEJ4NML._AC_UX679_t.png                |12.99 |3.6   |DANVOUY Womens T Shirt Casual Cotton Short                                                       |145         |\n",
      "+----------------+----------------------------------------------------------------------------------------------------------------------------------------------------------------------------------------------------------------------------------------------------------------------------------------------------------------------------------------------------------------------------------------------------------------------------------------------------------------------------------------------------------------------------------------------------------------------------------------------------------------------------------------------------------------------------------------------------------------------------------------------------------------------------------------------------+---+------------------------------------------------------------------------+------+------+-------------------------------------------------------------------------------------------------+------------+\n",
      "\n"
     ]
    }
   ],
   "source": [
    "df_products_bronze.show(truncate=False)"
   ]
  },
  {
   "cell_type": "markdown",
   "id": "a598e096",
   "metadata": {},
   "source": [
    "### Tranformações Carrinho"
   ]
  },
  {
   "cell_type": "code",
   "execution_count": 10,
   "id": "35b26b0f",
   "metadata": {},
   "outputs": [],
   "source": [
    "# Remove linhas com valores nulos em colunas críticas\n",
    "df_carts_bronze = df_carts.dropna(subset=[\"id\", \"products\"])\n",
    "\n",
    "# Explode a coluna de produtos para criar uma linha por produto em cada carrinho\n",
    "df_carts_bronze = df_carts_bronze.withColumn(\"products\", explode(\"products\"))\n",
    "\n",
    "# Extrai campos aninhados e renomeia colunas para evitar ambiguidade\n",
    "df_carts_bronze = df_carts_bronze.select(\n",
    "    col(\"id\").alias(\"cart_id\"),\n",
    "    col(\"userId\").alias(\"user_id\"),\n",
    "    col(\"date\").alias(\"cart_date\"),\n",
    "    col(\"products.productId\").alias(\"product_id\"),\n",
    "    col(\"products.quantity\").alias(\"product_quantity\")\n",
    ")"
   ]
  },
  {
   "cell_type": "code",
   "execution_count": 12,
   "id": "3a294dcd",
   "metadata": {},
   "outputs": [
    {
     "name": "stdout",
     "output_type": "stream",
     "text": [
      "+-------+-------+------------------------+----------+----------------+\n",
      "|cart_id|user_id|cart_date               |product_id|product_quantity|\n",
      "+-------+-------+------------------------+----------+----------------+\n",
      "|1      |1      |2020-03-02T00:00:00.000Z|1         |4               |\n",
      "|1      |1      |2020-03-02T00:00:00.000Z|2         |1               |\n",
      "|1      |1      |2020-03-02T00:00:00.000Z|3         |6               |\n",
      "|2      |1      |2020-01-02T00:00:00.000Z|2         |4               |\n",
      "|2      |1      |2020-01-02T00:00:00.000Z|1         |10              |\n",
      "+-------+-------+------------------------+----------+----------------+\n",
      "only showing top 5 rows\n",
      "\n"
     ]
    }
   ],
   "source": [
    "df_carts_bronze.show(5, truncate=False)"
   ]
  },
  {
   "cell_type": "markdown",
   "id": "4fbaeccb",
   "metadata": {},
   "source": [
    "### Escrita"
   ]
  },
  {
   "cell_type": "code",
   "execution_count": 13,
   "id": "2bd7aa6f",
   "metadata": {},
   "outputs": [],
   "source": [
    "# Adiciona coluna de timestamp de ingestão\n",
    "df_products_bronze = BemolController.control_field(df_products_bronze, layer=\"bronze\")\n",
    "df_carts_bronze = BemolController.control_field(df_carts_bronze, layer=\"bronze\")"
   ]
  },
  {
   "cell_type": "code",
   "execution_count": 14,
   "id": "c2a24343",
   "metadata": {},
   "outputs": [
    {
     "name": "stdout",
     "output_type": "stream",
     "text": [
      "+-------+-------+------------------------+----------+----------------+--------------------------+\n",
      "|cart_id|user_id|cart_date               |product_id|product_quantity|insertion_bronze          |\n",
      "+-------+-------+------------------------+----------+----------------+--------------------------+\n",
      "|1      |1      |2020-03-02T00:00:00.000Z|1         |4               |2025-10-16 20:26:06.221442|\n",
      "|1      |1      |2020-03-02T00:00:00.000Z|2         |1               |2025-10-16 20:26:06.221442|\n",
      "|1      |1      |2020-03-02T00:00:00.000Z|3         |6               |2025-10-16 20:26:06.221442|\n",
      "|2      |1      |2020-01-02T00:00:00.000Z|2         |4               |2025-10-16 20:26:06.221442|\n",
      "|2      |1      |2020-01-02T00:00:00.000Z|1         |10              |2025-10-16 20:26:06.221442|\n",
      "+-------+-------+------------------------+----------+----------------+--------------------------+\n",
      "only showing top 5 rows\n",
      "\n"
     ]
    }
   ],
   "source": [
    "df_carts_bronze.show(5, truncate=False)"
   ]
  },
  {
   "cell_type": "code",
   "execution_count": null,
   "id": "93b5e45c",
   "metadata": {},
   "outputs": [],
   "source": [
    "# Escreve os dados na camada bronze no formato Delta Lake e no modo overwrite como padrão\n",
    "lakehouse.write_bronze(df_products_bronze, destination_path_products, table_name=\"bronze_products\")\n",
    "lakehouse.write_bronze(df_carts_bronze, destination_path_carts, table_name=\"bronze_carts\")"
   ]
  },
  {
   "cell_type": "code",
   "execution_count": 16,
   "id": "a22638e6",
   "metadata": {},
   "outputs": [
    {
     "name": "stderr",
     "output_type": "stream",
     "text": [
      "2025-10-16 20:28:41,370 - INFO - Métricas exportadas com sucesso para ../data/monitoring/\n"
     ]
    },
    {
     "data": {
      "text/plain": [
       "DataFrame[table_name: string, row_count: bigint, col_count: bigint, timestamp: string]"
      ]
     },
     "execution_count": 16,
     "metadata": {},
     "output_type": "execute_result"
    }
   ],
   "source": [
    "# Escreve os dados de monitoramento no formato Delta Lake e no modo overwrite como padrão\n",
    "lakehouse.monitor.export_delta(spark, destination_path_monitor)"
   ]
  },
  {
   "cell_type": "code",
   "execution_count": 17,
   "id": "109365e4",
   "metadata": {},
   "outputs": [
    {
     "name": "stderr",
     "output_type": "stream",
     "text": [
      "                                                                                \r"
     ]
    },
    {
     "name": "stdout",
     "output_type": "stream",
     "text": [
      "+---------------+---------+---------+-------------------+\n",
      "|table_name     |row_count|col_count|timestamp          |\n",
      "+---------------+---------+---------+-------------------+\n",
      "|bronze_products|20       |9        |2025-10-16 20:27:04|\n",
      "|bronze_carts   |14       |6        |2025-10-16 20:27:10|\n",
      "|bronze_users   |10       |13       |2025-10-16 19:46:39|\n",
      "+---------------+---------+---------+-------------------+\n",
      "\n"
     ]
    }
   ],
   "source": [
    "df_monitor = spark.read.format(\"delta\").load(destination_path_monitor)\n",
    "df_monitor.show(5, truncate=False)"
   ]
  }
 ],
 "metadata": {
  "kernelspec": {
   "display_name": ".venv",
   "language": "python",
   "name": "python3"
  },
  "language_info": {
   "codemirror_mode": {
    "name": "ipython",
    "version": 3
   },
   "file_extension": ".py",
   "mimetype": "text/x-python",
   "name": "python",
   "nbconvert_exporter": "python",
   "pygments_lexer": "ipython3",
   "version": "3.12.5"
  }
 },
 "nbformat": 4,
 "nbformat_minor": 5
}
