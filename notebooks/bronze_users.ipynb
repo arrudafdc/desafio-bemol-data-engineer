{
 "cells": [
  {
   "cell_type": "markdown",
   "id": "c7387cd6",
   "metadata": {},
   "source": [
    "### Setup e Variáveis"
   ]
  },
  {
   "cell_type": "code",
   "execution_count": 1,
   "id": "fe89152c",
   "metadata": {},
   "outputs": [],
   "source": [
    "from core.bemol_lakehouse import BemolLakeHouse\n",
    "from core.bemol_controller import BemolController\n",
    "from core.bemol_landing_reader import BemolLandingReader\n",
    "from core.bemol_logger import BemolLogger\n",
    "from pyspark.sql import SparkSession\n",
    "from pyspark.sql.functions import col"
   ]
  },
  {
   "cell_type": "code",
   "execution_count": null,
   "id": "459f7f14",
   "metadata": {},
   "outputs": [],
   "source": [
    "# Instanciando classe de logger\n",
    "logger = BemolLogger(\"bronze_users\")\n",
    "\n",
    "# Configurando Spark com Delta Lake\n",
    "spark = (\n",
    "  SparkSession.builder\n",
    "  .appName(\"IngestaoBronzeUsuarios\")\n",
    "  .config(\"spark.jars.packages\", \"io.delta:delta-core_2.12:2.4.0\")\n",
    "  .config(\"spark.sql.extensions\", \"io.delta.sql.DeltaSparkSessionExtension\")\n",
    "  .config(\"spark.sql.catalog.spark_catalog\", \"org.apache.spark.sql.delta.catalog.DeltaCatalog\")\n",
    "  .getOrCreate()\n",
    ")\n",
    "\n",
    "# Intanciando classe de leitura da camada landing\n",
    "landing = BemolLandingReader(logger)\n",
    "\n",
    "# Intanciando classe de leitura/escrita de dados relacionados ao LakeHouse\n",
    "lakehouse = BemolLakeHouse(spark, logger)"
   ]
  },
  {
   "cell_type": "code",
   "execution_count": 3,
   "id": "d33ad521",
   "metadata": {},
   "outputs": [],
   "source": [
    "# Definindo URL da API e destino dos dados\n",
    "url_users = \"https://fakestoreapi.com/users\"\n",
    "destination_products = \"../data/bronze/users\"\n",
    "\n",
    "# Path para salvar os dados de monitoramento\n",
    "destination_path_monitor = \"../data/monitoring/\""
   ]
  },
  {
   "cell_type": "markdown",
   "id": "8b46f1b1",
   "metadata": {},
   "source": [
    "### Leitura"
   ]
  },
  {
   "cell_type": "code",
   "execution_count": 4,
   "id": "d55fd560",
   "metadata": {},
   "outputs": [
    {
     "name": "stderr",
     "output_type": "stream",
     "text": [
      "2025-10-16 20:14:07,077 - INFO - Iniciando operação: read_api\n",
      "2025-10-16 20:14:07,093 - INFO - Lendo dados da API: https://fakestoreapi.com/users\n",
      "2025-10-16 20:14:24,470 - INFO - Dados lidos com sucesso da API: 10 linhas, 8 colunas.\n",
      "2025-10-16 20:14:24,472 - INFO - Operação read_api finalizada em 17.4 segundos.\n"
     ]
    }
   ],
   "source": [
    "# Lendo dados da API e criando DataFrame\n",
    "df_users = landing.read_api(spark, url_users)"
   ]
  },
  {
   "cell_type": "code",
   "execution_count": 5,
   "id": "f0b1beb0",
   "metadata": {},
   "outputs": [
    {
     "name": "stderr",
     "output_type": "stream",
     "text": [
      "                                                                                \r"
     ]
    },
    {
     "name": "stdout",
     "output_type": "stream",
     "text": [
      "+---+----------------------------------------------------------------------+------------------+---+-----------------+---------+--------------+---------+\n",
      "|__v|address                                                               |email             |id |name             |password |phone         |username |\n",
      "+---+----------------------------------------------------------------------+------------------+---+-----------------+---------+--------------+---------+\n",
      "|0  |{kilcoole, {-37.3159, 81.1496}, 7682, new road, 12926-3874}           |john@gmail.com    |1  |{john, doe}      |m38rmF$  |1-570-236-7033|johnd    |\n",
      "|0  |{kilcoole, {-37.3159, 81.1496}, 7267, Lovers Ln, 12926-3874}          |morrison@gmail.com|2  |{david, morrison}|83r5^_   |1-570-236-7033|mor_2314 |\n",
      "|0  |{Cullman, {40.3467, -30.1310}, 86, Frances Ct, 29567-1452}            |kevin@gmail.com   |3  |{kevin, ryan}    |kev02937@|1-567-094-1345|kevinryan|\n",
      "|0  |{San Antonio, {50.3467, -20.1310}, 6454, Hunters Creek Dr, 98234-1734}|don@gmail.com     |4  |{don, romer}     |ewedon   |1-765-789-6734|donero   |\n",
      "|0  |{san Antonio, {40.3467, -40.1310}, 245, adams St, 80796-1234}         |derek@gmail.com   |5  |{derek, powell}  |jklg*_56 |1-956-001-1945|derek    |\n",
      "+---+----------------------------------------------------------------------+------------------+---+-----------------+---------+--------------+---------+\n",
      "only showing top 5 rows\n",
      "\n"
     ]
    }
   ],
   "source": [
    "df_users.show(5, truncate=False)"
   ]
  },
  {
   "cell_type": "markdown",
   "id": "d3d938fc",
   "metadata": {},
   "source": [
    "### Transformações"
   ]
  },
  {
   "cell_type": "code",
   "execution_count": null,
   "id": "ea4d2999",
   "metadata": {},
   "outputs": [],
   "source": [
    "# Remove registros com valores nulos em colunas críticas\n",
    "df_users_bronze = df_users.dropna(subset=[\"id\"])\n",
    "\n",
    "# Remove coluna password\n",
    "df_users_bronze = df_users_bronze.drop(\"password\")\n",
    "\n",
    "# Extrai campos aninhados\n",
    "df_users_bronze = (\n",
    "    df_users_bronze\n",
    "    .withColumn(\"first_name\", col(\"name.firstname\"))\n",
    "    .withColumn(\"last_name\", col(\"name.lastname\"))\n",
    "    .withColumn(\"city\", col(\"address.city\"))\n",
    "    .withColumn(\"number\", col(\"address.number\"))\n",
    "    .withColumn(\"street\", col(\"address.street\"))\n",
    "    .withColumn(\"zip_code\", col(\"address.zipcode\"))\n",
    "    .withColumn(\"lat\", col(\"address.geolocation.lat\"))\n",
    "    .withColumn(\"long\", col(\"address.geolocation.long\"))\n",
    "    .drop(\"name\", \"address\", \"__v\")  # remove as colunas aninhadas originais\n",
    ")"
   ]
  },
  {
   "cell_type": "code",
   "execution_count": 6,
   "id": "91ec6ffb",
   "metadata": {},
   "outputs": [
    {
     "name": "stdout",
     "output_type": "stream",
     "text": [
      "+------------------+---+--------------+---------+----------+---------+-----------+------+----------------+----------+--------+--------+\n",
      "|email             |id |phone         |username |first_name|last_name|city       |number|street          |zip_code  |lat     |long    |\n",
      "+------------------+---+--------------+---------+----------+---------+-----------+------+----------------+----------+--------+--------+\n",
      "|john@gmail.com    |1  |1-570-236-7033|johnd    |john      |doe      |kilcoole   |7682  |new road        |12926-3874|-37.3159|81.1496 |\n",
      "|morrison@gmail.com|2  |1-570-236-7033|mor_2314 |david     |morrison |kilcoole   |7267  |Lovers Ln       |12926-3874|-37.3159|81.1496 |\n",
      "|kevin@gmail.com   |3  |1-567-094-1345|kevinryan|kevin     |ryan     |Cullman    |86    |Frances Ct      |29567-1452|40.3467 |-30.1310|\n",
      "|don@gmail.com     |4  |1-765-789-6734|donero   |don       |romer    |San Antonio|6454  |Hunters Creek Dr|98234-1734|50.3467 |-20.1310|\n",
      "|derek@gmail.com   |5  |1-956-001-1945|derek    |derek     |powell   |san Antonio|245   |adams St        |80796-1234|40.3467 |-40.1310|\n",
      "+------------------+---+--------------+---------+----------+---------+-----------+------+----------------+----------+--------+--------+\n",
      "only showing top 5 rows\n",
      "\n"
     ]
    }
   ],
   "source": [
    "df_users_bronze.show(5, truncate=False)"
   ]
  },
  {
   "cell_type": "markdown",
   "id": "4fbaeccb",
   "metadata": {},
   "source": [
    "### Escrita"
   ]
  },
  {
   "cell_type": "code",
   "execution_count": 9,
   "id": "bbfe5f38",
   "metadata": {},
   "outputs": [],
   "source": [
    "# Adiciona coluna de controle de ingestão\n",
    "df_users_bronze = BemolController.control_field(df_users_bronze, layer=\"bronze\")"
   ]
  },
  {
   "cell_type": "code",
   "execution_count": 10,
   "id": "063feb35",
   "metadata": {},
   "outputs": [
    {
     "name": "stdout",
     "output_type": "stream",
     "text": [
      "+---+---------+------------------+--------------+----------+---------+-----------+------+----------------+----------+--------+----------+--------------------------+\n",
      "|id |username |email             |phone         |first_name|last_name|city       |number|street          |zip_code  |lat     |long      |insertion_bronze          |\n",
      "+---+---------+------------------+--------------+----------+---------+-----------+------+----------------+----------+--------+----------+--------------------------+\n",
      "|1  |johnd    |john@gmail.com    |1-570-236-7033|john      |doe      |kilcoole   |7682  |new road        |12926-3874|-37.3159|81.1496   |2025-10-16 19:45:38.313673|\n",
      "|2  |mor_2314 |morrison@gmail.com|1-570-236-7033|david     |morrison |kilcoole   |7267  |Lovers Ln       |12926-3874|-37.3159|81.1496   |2025-10-16 19:45:38.313673|\n",
      "|3  |kevinryan|kevin@gmail.com   |1-567-094-1345|kevin     |ryan     |Cullman    |86    |Frances Ct      |29567-1452|40.3467 |-30.1310  |2025-10-16 19:45:38.313673|\n",
      "|4  |donero   |don@gmail.com     |1-765-789-6734|don       |romer    |San Antonio|6454  |Hunters Creek Dr|98234-1734|50.3467 |-20.1310  |2025-10-16 19:45:38.313673|\n",
      "|5  |derek    |derek@gmail.com   |1-956-001-1945|derek     |powell   |san Antonio|245   |adams St        |80796-1234|40.3467 |-40.1310  |2025-10-16 19:45:38.313673|\n",
      "|6  |david_r  |david_r@gmail.com |1-678-345-9856|david     |russell  |el paso    |124   |prospect st     |12346-0456|20.1677 |-10.6789  |2025-10-16 19:45:38.313673|\n",
      "|7  |snyder   |miriam@gmail.com  |1-123-943-0563|miriam    |snyder   |fresno     |1342  |saddle st       |96378-0245|10.3456 |20.6419   |2025-10-16 19:45:38.313673|\n",
      "|8  |hopkins  |william@gmail.com |1-478-001-0890|william   |hopkins  |mesa       |1342  |vally view ln   |96378-0245|50.3456 |10.6419   |2025-10-16 19:45:38.313673|\n",
      "|9  |kate_h   |kate@gmail.com    |1-678-456-1934|kate      |hale     |miami      |345   |avondale ave    |96378-0245|40.12456|20.5419   |2025-10-16 19:45:38.313673|\n",
      "|10 |jimmie_k |jimmie@gmail.com  |1-104-001-4567|jimmie    |klein    |fort wayne |526   |oak lawn ave    |10256-4532|30.24788|-20.545419|2025-10-16 19:45:38.313673|\n",
      "+---+---------+------------------+--------------+----------+---------+-----------+------+----------------+----------+--------+----------+--------------------------+\n",
      "\n"
     ]
    }
   ],
   "source": [
    "df_users_bronze.show(truncate=False)"
   ]
  },
  {
   "cell_type": "code",
   "execution_count": null,
   "id": "76916f2c",
   "metadata": {},
   "outputs": [],
   "source": [
    "# Escreve os dados na camada bronze no formato Delta Lake e no modo overwrite como padrão\n",
    "lakehouse.write_bronze(df_users_bronze, destination_products, table_name=\"bronze_users\")"
   ]
  },
  {
   "cell_type": "code",
   "execution_count": 12,
   "id": "145b6412",
   "metadata": {},
   "outputs": [
    {
     "name": "stderr",
     "output_type": "stream",
     "text": [
      "2025-10-16 19:47:10,086 - INFO - Métricas exportadas com sucesso para ../data/monitoring/\n"
     ]
    },
    {
     "data": {
      "text/plain": [
       "DataFrame[table_name: string, row_count: bigint, col_count: bigint, timestamp: string]"
      ]
     },
     "execution_count": 12,
     "metadata": {},
     "output_type": "execute_result"
    }
   ],
   "source": [
    "# Escreve os dados de monitoramento no formato Delta Lake e no modo overwrite como padrão\n",
    "lakehouse.monitor.export_delta(spark, destination_path_monitor)"
   ]
  },
  {
   "cell_type": "code",
   "execution_count": 13,
   "id": "fbb4906e",
   "metadata": {},
   "outputs": [
    {
     "name": "stdout",
     "output_type": "stream",
     "text": [
      "+------------+---------+---------+-------------------+\n",
      "|table_name  |row_count|col_count|timestamp          |\n",
      "+------------+---------+---------+-------------------+\n",
      "|bronze_users|10       |13       |2025-10-16 19:46:39|\n",
      "+------------+---------+---------+-------------------+\n",
      "\n"
     ]
    }
   ],
   "source": [
    "df_monitor = spark.read.format(\"delta\").load(destination_path_monitor)\n",
    "df_monitor.show(5, truncate=False)"
   ]
  }
 ],
 "metadata": {
  "kernelspec": {
   "display_name": ".venv",
   "language": "python",
   "name": "python3"
  },
  "language_info": {
   "codemirror_mode": {
    "name": "ipython",
    "version": 3
   },
   "file_extension": ".py",
   "mimetype": "text/x-python",
   "name": "python",
   "nbconvert_exporter": "python",
   "pygments_lexer": "ipython3",
   "version": "3.12.5"
  }
 },
 "nbformat": 4,
 "nbformat_minor": 5
}
