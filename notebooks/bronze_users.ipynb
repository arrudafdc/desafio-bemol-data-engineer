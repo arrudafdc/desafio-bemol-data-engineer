{
 "cells": [
  {
   "cell_type": "markdown",
   "id": "c7387cd6",
   "metadata": {},
   "source": [
    "### Setup e Variáveis"
   ]
  },
  {
   "cell_type": "code",
   "execution_count": null,
   "id": "fe89152c",
   "metadata": {},
   "outputs": [],
   "source": [
    "from notebooks.core.bemol_lakestorage import BemolLakeStorage\n",
    "from core.bemol_controller import BemolController\n",
    "from core.bemol_landing_reader import BemolLandingReader\n",
    "from core.bemol_logger import BemolLogger\n",
    "from pyspark.sql import SparkSession\n",
    "from pyspark.sql.functions import col"
   ]
  },
  {
   "cell_type": "code",
   "execution_count": null,
   "id": "459f7f14",
   "metadata": {},
   "outputs": [],
   "source": [
    "# Instanciando classe BemolLogger\n",
    "logger = BemolLogger(\"bronze_users\")\n",
    "\n",
    "# Configurando Spark com Delta Lake\n",
    "spark = (\n",
    "  SparkSession.builder\n",
    "  .appName(\"IngestaoBronzeUsuarios\")\n",
    "  .config(\"spark.jars.packages\", \"io.delta:delta-core_2.12:2.4.0\")\n",
    "  .config(\"spark.sql.extensions\", \"io.delta.sql.DeltaSparkSessionExtension\")\n",
    "  .config(\"spark.sql.catalog.spark_catalog\", \"org.apache.spark.sql.delta.catalog.DeltaCatalog\")\n",
    "  .getOrCreate()\n",
    ")\n",
    "\n",
    "# Instanciando classe de leitura da camada landing BemolLandingReader\n",
    "landing = BemolLandingReader(logger)\n",
    "\n",
    "# Instanciando classe de leitura/escrita de dados BemolLakeStorage\n",
    "lakehouse = BemolLakeStorage(spark, logger)"
   ]
  },
  {
   "cell_type": "code",
   "execution_count": null,
   "id": "d33ad521",
   "metadata": {},
   "outputs": [],
   "source": [
    "# Definindo URL da API e destino dos dados\n",
    "url_users = \"https://fakestoreapi.com/users\"\n",
    "destination_products = \"../data/bronze/users\"\n",
    "\n",
    "# Path para salvar os dados de monitoramento\n",
    "destination_path_monitor = \"../data/monitoring/\""
   ]
  },
  {
   "cell_type": "markdown",
   "id": "8b46f1b1",
   "metadata": {},
   "source": [
    "### Leitura"
   ]
  },
  {
   "cell_type": "code",
   "execution_count": null,
   "id": "d55fd560",
   "metadata": {},
   "outputs": [],
   "source": [
    "# Lendo dados da API e criando DataFrame através do método read_api\n",
    "df_users = landing.read_api(spark, url_users)"
   ]
  },
  {
   "cell_type": "markdown",
   "id": "d3d938fc",
   "metadata": {},
   "source": [
    "### Transformações"
   ]
  },
  {
   "cell_type": "code",
   "execution_count": null,
   "id": "ea4d2999",
   "metadata": {},
   "outputs": [],
   "source": [
    "# Remove registros com valores nulos em colunas críticas\n",
    "df_users_bronze = df_users.dropna(subset=[\"id\"])\n",
    "\n",
    "# Remove coluna password\n",
    "df_users_bronze = df_users_bronze.drop(\"password\")\n",
    "\n",
    "# Extrai campos aninhados\n",
    "df_users_bronze = (\n",
    "    df_users_bronze\n",
    "    .withColumn(\"first_name\", col(\"name.firstname\"))\n",
    "    .withColumn(\"last_name\", col(\"name.lastname\"))\n",
    "    .withColumn(\"city\", col(\"address.city\"))\n",
    "    .withColumn(\"number\", col(\"address.number\"))\n",
    "    .withColumn(\"street\", col(\"address.street\"))\n",
    "    .withColumn(\"zip_code\", col(\"address.zipcode\"))\n",
    "    .withColumn(\"lat\", col(\"address.geolocation.lat\"))\n",
    "    .withColumn(\"long\", col(\"address.geolocation.long\"))\n",
    "    .drop(\"name\", \"address\", \"__v\")  # remove as colunas aninhadas originais\n",
    ")"
   ]
  },
  {
   "cell_type": "markdown",
   "id": "4fbaeccb",
   "metadata": {},
   "source": [
    "### Escrita"
   ]
  },
  {
   "cell_type": "code",
   "execution_count": null,
   "id": "bbfe5f38",
   "metadata": {},
   "outputs": [],
   "source": [
    "# Adiciona coluna de controle através do método control_field\n",
    "df_users_bronze = BemolController.control_field(df_users_bronze, layer=\"bronze\")"
   ]
  },
  {
   "cell_type": "code",
   "execution_count": null,
   "id": "76916f2c",
   "metadata": {},
   "outputs": [],
   "source": [
    "# Grava os dados na camada Bronze no formato Delta, utilizando o modo overwrite como padrão através do método write_bronze\n",
    "lakehouse.write_bronze(df_users_bronze, destination_products, table_name=\"bronze_users\")"
   ]
  },
  {
   "cell_type": "code",
   "execution_count": null,
   "id": "145b6412",
   "metadata": {},
   "outputs": [],
   "source": [
    "# Grava os dados de monitoramento no formato Delta, utilizando o modo overwrite como padrão através do método export_delta\n",
    "lakehouse.monitor.export_delta(spark, destination_path_monitor)"
   ]
  }
 ],
 "metadata": {
  "kernelspec": {
   "display_name": ".venv",
   "language": "python",
   "name": "python3"
  },
  "language_info": {
   "codemirror_mode": {
    "name": "ipython",
    "version": 3
   },
   "file_extension": ".py",
   "mimetype": "text/x-python",
   "name": "python",
   "nbconvert_exporter": "python",
   "pygments_lexer": "ipython3",
   "version": "3.12.5"
  }
 },
 "nbformat": 4,
 "nbformat_minor": 5
}
