{
 "cells": [
  {
   "cell_type": "markdown",
   "id": "c7387cd6",
   "metadata": {},
   "source": [
    "### Setup e Variáveis"
   ]
  },
  {
   "cell_type": "code",
   "execution_count": null,
   "id": "fe89152c",
   "metadata": {},
   "outputs": [],
   "source": [
    "from notebooks.core.bemol_lakestorage import BemolLakeStorage\n",
    "from core.bemol_controller import BemolController\n",
    "from core.bemol_landing_reader import BemolLandingReader\n",
    "from core.bemol_logger import BemolLogger\n",
    "from pyspark.sql import SparkSession\n",
    "from pyspark.sql.functions import explode, col"
   ]
  },
  {
   "cell_type": "code",
   "execution_count": null,
   "id": "459f7f14",
   "metadata": {},
   "outputs": [],
   "source": [
    "# Instanciando classe BemolLogger\n",
    "logger = BemolLogger(\"bronze_products_carts\")\n",
    "\n",
    "# Configurando Spark com Delta Lake\n",
    "spark = (\n",
    "  SparkSession.builder\n",
    "  .appName(\"IngestaoBronzeProdutos\")\n",
    "  .config(\"spark.jars.packages\", \"io.delta:delta-core_2.12:2.4.0\")\n",
    "  .config(\"spark.sql.extensions\", \"io.delta.sql.DeltaSparkSessionExtension\")\n",
    "  .config(\"spark.sql.catalog.spark_catalog\", \"org.apache.spark.sql.delta.catalog.DeltaCatalog\")\n",
    "  .getOrCreate()\n",
    ")\n",
    "\n",
    "# Instanciando classe de leitura/escrita de dados BemolLakeStorage\n",
    "lakehouse = BemolLakeStorage(spark, logger)\n",
    "\n",
    "# Instanciando classe de leitura da camada landing BemolLandingReader\n",
    "landing = BemolLandingReader(logger)"
   ]
  },
  {
   "cell_type": "code",
   "execution_count": null,
   "id": "d33ad521",
   "metadata": {},
   "outputs": [],
   "source": [
    "# Definindo URL's da API e destinos dos dados\n",
    "url_products = \"https://fakestoreapi.com/products\"\n",
    "url_carts = \"https://fakestoreapi.com/carts\"\n",
    "destination_path_products = \"../data/bronze/products\"\n",
    "destination_path_carts = \"../data/bronze/carts\"\n",
    "\n",
    "# Path para salvar os dados de monitoramento\n",
    "destination_path_monitor = \"../data/monitoring/\""
   ]
  },
  {
   "cell_type": "markdown",
   "id": "8b46f1b1",
   "metadata": {},
   "source": [
    "### Leitura"
   ]
  },
  {
   "cell_type": "code",
   "execution_count": null,
   "id": "8865e896",
   "metadata": {},
   "outputs": [],
   "source": [
    "# Lendo dados da API e criando DataFrame através do método read_api\n",
    "df_carts = landing.read_api(spark, url_carts)\n",
    "df_products = landing.read_api(spark, url_products)"
   ]
  },
  {
   "cell_type": "markdown",
   "id": "d3d938fc",
   "metadata": {},
   "source": [
    "### Transformações Produto"
   ]
  },
  {
   "cell_type": "code",
   "execution_count": null,
   "id": "1123a348",
   "metadata": {},
   "outputs": [],
   "source": [
    "# Remove registros com valores nulos em colunas críticas\n",
    "df_products_bronze = df_products.dropna(subset=[\"id\"])\n",
    "\n",
    "# Renomeia coluna pora manter evitar ambiguidade\n",
    "df_products_bronze = df_products_bronze.withColumnRenamed(\"title\", \"product_title\")\n",
    "\n",
    "# Extrai campos aninhados\n",
    "df_products_bronze = (\n",
    "  df_products_bronze\n",
    "  .withColumn(\"rating_count\", col(\"rating.count\"))\n",
    "  .withColumn(\"rating\", col(\"rating.rate\"))\n",
    "  )"
   ]
  },
  {
   "cell_type": "markdown",
   "id": "a598e096",
   "metadata": {},
   "source": [
    "### Tranformações Carrinho"
   ]
  },
  {
   "cell_type": "code",
   "execution_count": null,
   "id": "35b26b0f",
   "metadata": {},
   "outputs": [],
   "source": [
    "# Remove linhas com valores nulos em colunas críticas\n",
    "df_carts_bronze = df_carts.dropna(subset=[\"id\", \"products\"])\n",
    "\n",
    "# Explode a coluna de produtos para criar uma linha por produto em cada carrinho\n",
    "df_carts_bronze = df_carts_bronze.withColumn(\"products\", explode(\"products\"))\n",
    "\n",
    "# Extrai campos aninhados e renomeia colunas para evitar ambiguidade\n",
    "df_carts_bronze = df_carts_bronze.select(\n",
    "    col(\"id\").alias(\"cart_id\"),\n",
    "    col(\"userId\").alias(\"user_id\"),\n",
    "    col(\"date\").alias(\"cart_date\"),\n",
    "    col(\"products.productId\").alias(\"product_id\"),\n",
    "    col(\"products.quantity\").alias(\"product_quantity\")\n",
    ")"
   ]
  },
  {
   "cell_type": "markdown",
   "id": "4fbaeccb",
   "metadata": {},
   "source": [
    "### Escrita"
   ]
  },
  {
   "cell_type": "code",
   "execution_count": null,
   "id": "2bd7aa6f",
   "metadata": {},
   "outputs": [],
   "source": [
    "# Adiciona coluna de controle através do método control_field\n",
    "df_products_bronze = BemolController.control_field(df_products_bronze, layer=\"bronze\")\n",
    "df_carts_bronze = BemolController.control_field(df_carts_bronze, layer=\"bronze\")"
   ]
  },
  {
   "cell_type": "code",
   "execution_count": null,
   "id": "93b5e45c",
   "metadata": {},
   "outputs": [],
   "source": [
    "# Grava os dados na camada Bronze no formato Delta, utilizando o modo overwrite como padrão através do método write_bronze\n",
    "lakehouse.write_bronze(df_products_bronze, destination_path_products, table_name=\"bronze_products\")\n",
    "lakehouse.write_bronze(df_carts_bronze, destination_path_carts, table_name=\"bronze_carts\")"
   ]
  },
  {
   "cell_type": "code",
   "execution_count": null,
   "id": "a22638e6",
   "metadata": {},
   "outputs": [],
   "source": [
    "# Grava os dados de monitoramento no formato Delta, utilizando o modo overwrite como padrão através do método export_delta\n",
    "lakehouse.monitor.export_delta(spark, destination_path_monitor)"
   ]
  }
 ],
 "metadata": {
  "kernelspec": {
   "display_name": ".venv",
   "language": "python",
   "name": "python3"
  },
  "language_info": {
   "codemirror_mode": {
    "name": "ipython",
    "version": 3
   },
   "file_extension": ".py",
   "mimetype": "text/x-python",
   "name": "python",
   "nbconvert_exporter": "python",
   "pygments_lexer": "ipython3",
   "version": "3.12.5"
  }
 },
 "nbformat": 4,
 "nbformat_minor": 5
}
