{
 "cells": [
  {
   "cell_type": "markdown",
   "id": "2a073231",
   "metadata": {},
   "source": [
    "### Setup e Variáveis"
   ]
  },
  {
   "cell_type": "code",
   "execution_count": null,
   "id": "a2136692",
   "metadata": {},
   "outputs": [],
   "source": [
    "from notebooks.core.bemol_lakestorage import BemolLakeStorage\n",
    "from core.bemol_controller import BemolController\n",
    "from core.bemol_logger import BemolLogger\n",
    "from pyspark.sql import SparkSession\n",
    "from pyspark.sql.functions import col, sum"
   ]
  },
  {
   "cell_type": "code",
   "execution_count": null,
   "id": "d674ce30",
   "metadata": {},
   "outputs": [],
   "source": [
    "# Instanciando classe BemolLogger\n",
    "logger = BemolLogger(\"silver_products_sales\")\n",
    "\n",
    "# Configurando Spark com Delta Lake\n",
    "spark = (\n",
    "  SparkSession.builder\n",
    "  .appName(\"TransformacaoSilverProdutos\")\n",
    "  .config(\"spark.jars.packages\", \"io.delta:delta-core_2.12:2.4.0\")\n",
    "  .config(\"spark.sql.extensions\", \"io.delta.sql.DeltaSparkSessionExtension\")\n",
    "  .config(\"spark.sql.catalog.spark_catalog\", \"org.apache.spark.sql.delta.catalog.DeltaCatalog\")\n",
    "  .getOrCreate()\n",
    ")\n",
    "\n",
    "# Instanciando classe de leitura/escrita de dados BemolLakeStorage\n",
    "lakehouse = BemolLakeStorage(spark, logger)"
   ]
  },
  {
   "cell_type": "code",
   "execution_count": null,
   "id": "544014bb",
   "metadata": {},
   "outputs": [],
   "source": [
    "# Definindo paths de origem e destino\n",
    "origin_path_carts = \"../data/bronze/carts/\"\n",
    "origin_path_products = \"../data/bronze/products/\"\n",
    "destination_path = \"../data/silver/products_sales/\"\n",
    "\n",
    "# Path para salvar os dados de monitoramento\n",
    "destination_path_monitor = \"../data/monitoring/\""
   ]
  },
  {
   "cell_type": "markdown",
   "id": "16b0ea55",
   "metadata": {},
   "source": [
    "### Leitura"
   ]
  },
  {
   "cell_type": "code",
   "execution_count": null,
   "id": "6f5dd006",
   "metadata": {},
   "outputs": [],
   "source": [
    "# Lendo dados da camada bronze através do método read_bronze\n",
    "df_carts = lakehouse.read_bronze(origin_path_carts)\n",
    "df_products = lakehouse.read_bronze(origin_path_products)"
   ]
  },
  {
   "cell_type": "markdown",
   "id": "1346d3a8",
   "metadata": {},
   "source": [
    "### Tranformações"
   ]
  },
  {
   "cell_type": "code",
   "execution_count": null,
   "id": "8acfea7d",
   "metadata": {},
   "outputs": [],
   "source": [
    "# Remove duplicatas\n",
    "df_products = df_products.dropDuplicates([\"id\"])\n",
    "\n",
    "# Agrega a quantidade total vendida por produto\n",
    "df_sales = df_carts.groupBy(\"product_id\").agg(\n",
    "    sum(\"product_quantity\").alias(\"total_quantity_sold\")\n",
    ")"
   ]
  },
  {
   "cell_type": "code",
   "execution_count": null,
   "id": "07ce8226",
   "metadata": {},
   "outputs": [],
   "source": [
    "# Enriquecer o dataframe de produtos com a quantidade total vendida\n",
    "df_products_silver = df_products.join(df_sales, df_products.id == df_sales.product_id, \"left\").drop(df_sales.product_id)\n",
    "\n",
    "# Seleciona as colunas relevantes\n",
    "df_products_silver = df_products_silver.select(\"id\", \"product_title\", \"category\", \"rating_count\", \"rating\", \"price\", \"total_quantity_sold\")\n",
    "\n",
    "# Substitui valores nulos na coluna total_quantity_sold por 0\n",
    "df_products_silver = df_products_silver.fillna(0, subset=[\"total_quantity_sold\"])\n",
    "\n",
    "# Calcula a receita total por produto\n",
    "df_products_silver = df_products_silver.withColumn(\"total_revenue\", col(\"price\") * col(\"total_quantity_sold\"))"
   ]
  },
  {
   "cell_type": "markdown",
   "id": "bb284f50",
   "metadata": {},
   "source": [
    "### Escrita"
   ]
  },
  {
   "cell_type": "code",
   "execution_count": null,
   "id": "eaa1ae16",
   "metadata": {},
   "outputs": [],
   "source": [
    "# Adiciona coluna de controle através do método control_field\n",
    "df_products_silver = BemolController.control_field(df_products_silver, \"silver\")"
   ]
  },
  {
   "cell_type": "code",
   "execution_count": null,
   "id": "46c33271",
   "metadata": {},
   "outputs": [],
   "source": [
    "# Grava os dados na camada Silver no formato Delta, utilizando o modo overwrite como padrão através do método write_silver\n",
    "lakehouse.write_silver(df_products_silver, destination_path, table_name=\"silver_products_sales\")"
   ]
  },
  {
   "cell_type": "code",
   "execution_count": null,
   "id": "1b235f80",
   "metadata": {},
   "outputs": [],
   "source": [
    "# Grava os dados de monitoramento no formato Delta, utilizando o modo overwrite como padrão através do método export_delta\n",
    "lakehouse.monitor.export_delta(spark, destination_path_monitor)"
   ]
  }
 ],
 "metadata": {
  "kernelspec": {
   "display_name": ".venv",
   "language": "python",
   "name": "python3"
  },
  "language_info": {
   "codemirror_mode": {
    "name": "ipython",
    "version": 3
   },
   "file_extension": ".py",
   "mimetype": "text/x-python",
   "name": "python",
   "nbconvert_exporter": "python",
   "pygments_lexer": "ipython3",
   "version": "3.12.5"
  }
 },
 "nbformat": 4,
 "nbformat_minor": 5
}
