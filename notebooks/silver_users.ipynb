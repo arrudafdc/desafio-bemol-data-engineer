{
 "cells": [
  {
   "cell_type": "markdown",
   "id": "2a073231",
   "metadata": {},
   "source": [
    "### Setup e Variáveis"
   ]
  },
  {
   "cell_type": "code",
   "execution_count": null,
   "id": "a2136692",
   "metadata": {},
   "outputs": [],
   "source": [
    "from core.bemol_validator import BemolValidator\n",
    "from notebooks.core.bemol_lakestorage import BemolLakeStorage\n",
    "from core.bemol_controller import BemolController\n",
    "from core.bemol_logger import BemolLogger\n",
    "from pyspark.sql import SparkSession\n",
    "from pyspark.sql.functions import col, concat_ws"
   ]
  },
  {
   "cell_type": "code",
   "execution_count": null,
   "id": "d674ce30",
   "metadata": {},
   "outputs": [],
   "source": [
    "# Instanciando classe BemolLogger\n",
    "logger = BemolLogger(\"silver_users\")\n",
    "\n",
    "# Configurando Spark com Delta Lake\n",
    "spark = (\n",
    "  SparkSession.builder\n",
    "  .appName(\"TransformacaoSilverUsuarios\")\n",
    "  .config(\"spark.jars.packages\", \"io.delta:delta-core_2.12:2.4.0\")\n",
    "  .config(\"spark.sql.extensions\", \"io.delta.sql.DeltaSparkSessionExtension\")\n",
    "  .config(\"spark.sql.catalog.spark_catalog\", \"org.apache.spark.sql.delta.catalog.DeltaCatalog\")\n",
    "  .getOrCreate()\n",
    ")\n",
    "\n",
    "# Instanciando classe de leitura/escrita de dados BemolLakeStorage\n",
    "lakehouse = BemolLakeStorage(spark, logger)"
   ]
  },
  {
   "cell_type": "code",
   "execution_count": null,
   "id": "544014bb",
   "metadata": {},
   "outputs": [],
   "source": [
    "# Definindo paths de origem e destino\n",
    "origin_path = \"../data/bronze/users/\"\n",
    "destination_path = \"../data/silver/users/\"\n",
    "\n",
    "# Path para salvar os dados de monitoramento\n",
    "destination_path_monitor = \"../data/monitoring/\""
   ]
  },
  {
   "cell_type": "markdown",
   "id": "16b0ea55",
   "metadata": {},
   "source": [
    "### Leitura"
   ]
  },
  {
   "cell_type": "code",
   "execution_count": null,
   "id": "38ffe8fd",
   "metadata": {},
   "outputs": [],
   "source": [
    "# Lendo dados da camada bronze através do método read_bronze\n",
    "df_users = lakehouse.read_bronze(origin_path)"
   ]
  },
  {
   "cell_type": "markdown",
   "id": "1346d3a8",
   "metadata": {},
   "source": [
    "### Tranformações"
   ]
  },
  {
   "cell_type": "code",
   "execution_count": null,
   "id": "3c154429",
   "metadata": {},
   "outputs": [],
   "source": [
    "# Remove duplicatas\n",
    "df_users = df_users.dropDuplicates([\"id\"])\n",
    "\n",
    "# Adiciona a coluna full_name\n",
    "df_users_silver = df_users.withColumn(\"full_name\", concat_ws(\" \", col(\"first_name\"), col(\"last_name\")))\n",
    "\n",
    "# Remove colunas indesejadas\n",
    "df_users_silver = df_users_silver.select(\"id\", \"username\", \"full_name\", \"email\", \"phone\", \"city\")\n",
    "\n",
    "# Valida a coluna de e-mail com a classe BemolValidator\n",
    "df_users_silver = BemolValidator.validate_email(df_users_silver, \"email\")"
   ]
  },
  {
   "cell_type": "markdown",
   "id": "bb284f50",
   "metadata": {},
   "source": [
    "### Escrita"
   ]
  },
  {
   "cell_type": "code",
   "execution_count": null,
   "id": "603eb563",
   "metadata": {},
   "outputs": [],
   "source": [
    "# Adiciona coluna de controle através do método control_field\n",
    "df_users_silver = BemolController.control_field(df_users_silver, layer=\"silver\")"
   ]
  },
  {
   "cell_type": "code",
   "execution_count": null,
   "id": "3ba047c4",
   "metadata": {},
   "outputs": [],
   "source": [
    "# Grava os dados na camada Silver no formato Delta, utilizando o modo overwrite como padrão através do método write_silver\n",
    "lakehouse.write_silver(df_users_silver, destination_path, table_name=\"silver_users\")"
   ]
  },
  {
   "cell_type": "code",
   "execution_count": null,
   "id": "208bd161",
   "metadata": {},
   "outputs": [],
   "source": [
    "# Grava os dados de monitoramento no formato Delta, utilizando o modo overwrite como padrão através do método export_delta\n",
    "lakehouse.monitor.export_delta(spark, destination_path_monitor)"
   ]
  }
 ],
 "metadata": {
  "kernelspec": {
   "display_name": ".venv",
   "language": "python",
   "name": "python3"
  },
  "language_info": {
   "codemirror_mode": {
    "name": "ipython",
    "version": 3
   },
   "file_extension": ".py",
   "mimetype": "text/x-python",
   "name": "python",
   "nbconvert_exporter": "python",
   "pygments_lexer": "ipython3",
   "version": "3.12.5"
  }
 },
 "nbformat": 4,
 "nbformat_minor": 5
}
